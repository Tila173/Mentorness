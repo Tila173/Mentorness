{
 "cells": [
  {
   "cell_type": "markdown",
   "id": "e4e8d809",
   "metadata": {},
   "source": [
    "# Overview"
   ]
  },
  {
   "cell_type": "markdown",
   "id": "59ab4c51",
   "metadata": {},
   "source": [
    "* This script is designed to perform sentiment analysis on a given text input. It utilizes the Natural Language Toolkit (NLTK) library, specifically the VADER (Valence Aware Dictionary and sEntiment Reasoner) sentiment analysis module, to determine the sentiment polarity of the text."
   ]
  },
  {
   "cell_type": "markdown",
   "id": "11b28b88",
   "metadata": {},
   "source": [
    "# Architecture"
   ]
  },
  {
   "cell_type": "markdown",
   "id": "b3da495c",
   "metadata": {},
   "source": [
    "* This script is composed of several functions that work together to analyze text and generate a sentiment-based comment."
   ]
  },
  {
   "cell_type": "markdown",
   "id": "58dee2c1",
   "metadata": {},
   "source": [
    "# Import Necessary Libraries"
   ]
  },
  {
   "cell_type": "code",
   "execution_count": 1,
   "id": "230dc065",
   "metadata": {},
   "outputs": [],
   "source": [
    "import nltk\n",
    "from nltk.sentiment import SentimentIntensityAnalyzer\n",
    "from nltk.corpus import stopwords\n",
    "from nltk.tokenize import word_tokenize\n",
    "import random"
   ]
  },
  {
   "cell_type": "markdown",
   "id": "52ff9f25",
   "metadata": {},
   "source": [
    "# Download necessary NLTK resources"
   ]
  },
  {
   "cell_type": "code",
   "execution_count": 2,
   "id": "1d970fa0",
   "metadata": {},
   "outputs": [
    {
     "name": "stderr",
     "output_type": "stream",
     "text": [
      "[nltk_data] Downloading package vader_lexicon to\n",
      "[nltk_data]     C:\\Users\\hp\\AppData\\Roaming\\nltk_data...\n",
      "[nltk_data]   Package vader_lexicon is already up-to-date!\n",
      "[nltk_data] Downloading package punkt to\n",
      "[nltk_data]     C:\\Users\\hp\\AppData\\Roaming\\nltk_data...\n",
      "[nltk_data]   Package punkt is already up-to-date!\n",
      "[nltk_data] Downloading package stopwords to\n",
      "[nltk_data]     C:\\Users\\hp\\AppData\\Roaming\\nltk_data...\n",
      "[nltk_data]   Package stopwords is already up-to-date!\n"
     ]
    },
    {
     "data": {
      "text/plain": [
       "True"
      ]
     },
     "execution_count": 2,
     "metadata": {},
     "output_type": "execute_result"
    }
   ],
   "source": [
    "nltk.download('vader_lexicon')\n",
    "nltk.download('punkt')\n",
    "nltk.download('stopwords')"
   ]
  },
  {
   "cell_type": "markdown",
   "id": "4d460340",
   "metadata": {},
   "source": [
    "# VADER sentiment analyzer"
   ]
  },
  {
   "cell_type": "markdown",
   "id": "c8c6e93a",
   "metadata": {},
   "source": [
    "* The core sentiment analysis is performed using the VADER sentiment analyzer, which is part of the NLTK library. VADER is specifically attuned to sentiments expressed in social media and is sensitive to both polarity (positive/negative) and intensity (strength) of emotion.\n",
    "* analyze_content: Tokenizes the input text, removes stopwords, and calculates the sentiment score."
   ]
  },
  {
   "cell_type": "code",
   "execution_count": 3,
   "id": "f8056c9e",
   "metadata": {},
   "outputs": [],
   "source": [
    "# Initialize Sentiment Intensity Analyzer\n",
    "sia = SentimentIntensityAnalyzer()\n",
    "\n",
    "def analyze_content(text):\n",
    "    # Tokenize and remove stopwords\n",
    "    stop_words = set(stopwords.words('english'))\n",
    "    words = word_tokenize(text)\n",
    "    filtered_text = [w for w in words if not w.lower() in stop_words]\n",
    "\n",
    "    # Analyze sentiment\n",
    "    sentiment_score = sia.polarity_scores(' '.join(filtered_text))\n",
    "    return sentiment_score"
   ]
  },
  {
   "cell_type": "markdown",
   "id": "424056c0",
   "metadata": {},
   "source": [
    "* determine_tone: Determines the tone of the text as positive, negative, or neutral based on the compound sentiment score."
   ]
  },
  {
   "cell_type": "code",
   "execution_count": 4,
   "id": "397c16bd",
   "metadata": {},
   "outputs": [],
   "source": [
    "def determine_tone(sentiment_score):\n",
    "    # Determine tone based on sentiment score\n",
    "    if sentiment_score['compound'] >= 0.05:\n",
    "        return 'positive'\n",
    "    elif sentiment_score['compound'] <= -0.05:\n",
    "        return 'negative'\n",
    "    else:\n",
    "        return 'neutral'"
   ]
  },
  {
   "cell_type": "markdown",
   "id": "88a025a5",
   "metadata": {},
   "source": [
    "* Generates a comment based on the determined tone."
   ]
  },
  {
   "cell_type": "code",
   "execution_count": 5,
   "id": "26edd1d4",
   "metadata": {},
   "outputs": [],
   "source": [
    "def generate_comment(tone, sentiment_score):\n",
    "    # Generate comments based on tone\n",
    "    comments = {\n",
    "        'friendly': \"Absolutely love this! Your kindness shines through in everything you share.\",\n",
    "        'funny': \"Haha 😄, this is hilarious! You always know how to put a smile on my face. Keep up the great work!\",\n",
    "        'congratulating': \"Well done! Your dedication and hard work are truly inspiring.\",\n",
    "        'questioning': \"This is really interesting! Can you tell me more about how you came up with this idea? I'd love to learn more.\",\n",
    "        'disagreement': \"I see where you're coming from, but I have a different perspective. Maybe we can discuss it further and share our thoughts?\"\n",
    "    }\n",
    "    if tone == 'positive':\n",
    "        return comments['friendly']\n",
    "    elif tone == 'negative':\n",
    "        return comments['disagreement']\n",
    "    else:\n",
    "        # For neutral tone, randomly select between funny and questioning\n",
    "         return comments['funny'] if random.random() < 0.5 else comments['questioning']"
   ]
  },
  {
   "cell_type": "markdown",
   "id": "9a6af5bf",
   "metadata": {},
   "source": [
    "* This main function set up the flow of the script, handling user input and displaying the output."
   ]
  },
  {
   "cell_type": "code",
   "execution_count": 6,
   "id": "5ef492ff",
   "metadata": {},
   "outputs": [],
   "source": [
    "def main():\n",
    "    try:\n",
    "        text_input = input(\"Please enter the text you'd like to analyze: \")\n",
    "        sentiment_score = analyze_content(text_input)\n",
    "        tone = determine_tone(sentiment_score)\n",
    "\n",
    "        # Generate comment\n",
    "        comment = generate_comment(tone, sentiment_score)\n",
    "\n",
    "        print(\"\\nGenerated Comment:\")\n",
    "        print(comment)\n",
    "    except KeyboardInterrupt:\n",
    "        print(\"\\nAnalysis interrupted. Exiting...\")"
   ]
  },
  {
   "cell_type": "code",
   "execution_count": 7,
   "id": "f7c80a29",
   "metadata": {},
   "outputs": [
    {
     "name": "stdout",
     "output_type": "stream",
     "text": [
      "Please enter the text you'd like to analyze: Hi how are you?\n",
      "\n",
      "Generated Comment:\n",
      "This is really interesting! Can you tell me more about how you came up with this idea? I'd love to learn more.\n"
     ]
    }
   ],
   "source": [
    "if __name__ == \"__main__\":\n",
    "    main()"
   ]
  }
 ],
 "metadata": {
  "kernelspec": {
   "display_name": "Python 3 (ipykernel)",
   "language": "python",
   "name": "python3"
  },
  "language_info": {
   "codemirror_mode": {
    "name": "ipython",
    "version": 3
   },
   "file_extension": ".py",
   "mimetype": "text/x-python",
   "name": "python",
   "nbconvert_exporter": "python",
   "pygments_lexer": "ipython3",
   "version": "3.10.11"
  }
 },
 "nbformat": 4,
 "nbformat_minor": 5
}
